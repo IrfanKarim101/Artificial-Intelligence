{
  "cells": [
    {
      "cell_type": "markdown",
      "metadata": {
        "id": "view-in-github",
        "colab_type": "text"
      },
      "source": [
        "<a href=\"https://colab.research.google.com/github/IrfanKarim101/Artificial-Intelligence/blob/main/normalization_and_scaling.ipynb\" target=\"_parent\"><img src=\"https://colab.research.google.com/assets/colab-badge.svg\" alt=\"Open In Colab\"/></a>"
      ]
    },
    {
      "cell_type": "code",
      "execution_count": 1,
      "metadata": {
        "colab": {
          "base_uri": "https://localhost:8080/",
          "height": 236
        },
        "id": "gR8krms--4LL",
        "outputId": "0c241016-5100-4dde-9822-edbca579e4fe"
      },
      "outputs": [
        {
          "output_type": "stream",
          "name": "stdout",
          "text": [
            "/bin/bash: line 1: import: command not found\n"
          ]
        },
        {
          "output_type": "error",
          "ename": "NameError",
          "evalue": "name 'np' is not defined",
          "traceback": [
            "\u001b[0;31m---------------------------------------------------------------------------\u001b[0m",
            "\u001b[0;31mNameError\u001b[0m                                 Traceback (most recent call last)",
            "\u001b[0;32m<ipython-input-1-8b4bbeff3cd2>\u001b[0m in \u001b[0;36m<cell line: 4>\u001b[0;34m()\u001b[0m\n\u001b[1;32m      2\u001b[0m \u001b[0;34m\u001b[0m\u001b[0m\n\u001b[1;32m      3\u001b[0m \u001b[0;31m# Create a dataset\u001b[0m\u001b[0;34m\u001b[0m\u001b[0;34m\u001b[0m\u001b[0m\n\u001b[0;32m----> 4\u001b[0;31m data = np.array([[50, 2000],\n\u001b[0m\u001b[1;32m      5\u001b[0m                  \u001b[0;34m[\u001b[0m\u001b[0;36m30\u001b[0m\u001b[0;34m,\u001b[0m \u001b[0;36m3000\u001b[0m\u001b[0;34m]\u001b[0m\u001b[0;34m,\u001b[0m\u001b[0;34m\u001b[0m\u001b[0;34m\u001b[0m\u001b[0m\n\u001b[1;32m      6\u001b[0m                  \u001b[0;34m[\u001b[0m\u001b[0;36m20\u001b[0m\u001b[0;34m,\u001b[0m \u001b[0;36m1000\u001b[0m\u001b[0;34m]\u001b[0m\u001b[0;34m,\u001b[0m\u001b[0;34m\u001b[0m\u001b[0;34m\u001b[0m\u001b[0m\n",
            "\u001b[0;31mNameError\u001b[0m: name 'np' is not defined"
          ]
        }
      ],
      "source": [
        "import numpy as np\n",
        "\n",
        "# Create a dataset\n",
        "data = np.array([[50, 2000],\n",
        "                 [30, 3000],\n",
        "                 [20, 1000],\n",
        "                 [60, 4000]])\n",
        "\n",
        "print(\"Original Data:\")\n",
        "print(data)\n"
      ]
    },
    {
      "cell_type": "code",
      "execution_count": null,
      "metadata": {
        "colab": {
          "base_uri": "https://localhost:8080/"
        },
        "id": "wru9tDky_DpW",
        "outputId": "fd64cff1-19d3-44f4-909d-bcb4b0e52f16"
      },
      "outputs": [
        {
          "name": "stdout",
          "output_type": "stream",
          "text": [
            "\n",
            "Min-Max Scaled Data:\n",
            "[[0.75       0.33333333]\n",
            " [0.25       0.66666667]\n",
            " [0.         0.        ]\n",
            " [1.         1.        ]]\n"
          ]
        }
      ],
      "source": [
        "from sklearn.preprocessing import MinMaxScaler\n",
        "\n",
        "# Initialize the MinMaxScaler\n",
        "scaler = MinMaxScaler()\n",
        "\n",
        "# Fit and transform the data\n",
        "minmax_scaled_data = scaler.fit_transform(data)\n",
        "\n",
        "print(\"\\nMin-Max Scaled Data:\")\n",
        "print(minmax_scaled_data)\n"
      ]
    },
    {
      "cell_type": "code",
      "execution_count": null,
      "metadata": {
        "colab": {
          "base_uri": "https://localhost:8080/"
        },
        "id": "Y3EcJDbCDqrp",
        "outputId": "374bec99-b867-48e4-d3c7-165662fc5e70"
      },
      "outputs": [
        {
          "name": "stdout",
          "output_type": "stream",
          "text": [
            "Original Data:\n",
            "[[  50 2000]\n",
            " [  30 3000]\n",
            " [  20 1000]\n",
            " [  60 4000]]\n",
            "\n",
            "Min-Max Scaled Data (Range 0-1):\n",
            "[[0.75       0.33333333]\n",
            " [0.25       0.66666667]\n",
            " [0.         0.        ]\n",
            " [1.         1.        ]]\n",
            "\n",
            "Min-Max Scaled Data (Range 5-10):\n",
            "[[ 8.75        6.66666667]\n",
            " [ 6.25        8.33333333]\n",
            " [ 5.          5.        ]\n",
            " [10.         10.        ]]\n"
          ]
        }
      ],
      "source": [
        "import numpy as np\n",
        "from sklearn.preprocessing import MinMaxScaler, StandardScaler\n",
        "\n",
        "# Example dataset\n",
        "data = np.array([[50, 2000],\n",
        "                 [30, 3000],\n",
        "                 [20, 1000],\n",
        "                 [60, 4000]])\n",
        "\n",
        "print(\"Original Data:\")\n",
        "print(data)\n",
        "\n",
        "# 1. Min-Max Scaling with a specified range\n",
        "scaler_minmax = MinMaxScaler(feature_range=(0, 1))  # Define the range 0-1\n",
        "minmax_scaled_data = scaler_minmax.fit_transform(data)\n",
        "\n",
        "print(\"\\nMin-Max Scaled Data (Range 0-1):\")\n",
        "print(minmax_scaled_data)\n",
        "\n",
        "# 2. Min-Max Scaling with a custom range (e.g., 5 to 10)\n",
        "scaler_custom = MinMaxScaler(feature_range=(5, 10))  # Define the range 5-10\n",
        "custom_scaled_data = scaler_custom.fit_transform(data)\n",
        "\n",
        "print(\"\\nMin-Max Scaled Data (Range 5-10):\")\n",
        "print(custom_scaled_data)\n",
        "\n",
        "\n"
      ]
    },
    {
      "cell_type": "code",
      "execution_count": null,
      "metadata": {
        "colab": {
          "base_uri": "https://localhost:8080/"
        },
        "id": "xRjDAtbwD3-5",
        "outputId": "083a3d7a-954b-4f05-ccf3-15f5fb193b2b"
      },
      "outputs": [
        {
          "name": "stdout",
          "output_type": "stream",
          "text": [
            "Original Data:\n",
            "[[  50 2000]\n",
            " [  30 3000]\n",
            " [  20 1000]\n",
            " [  60 4000]]\n",
            "\n",
            "Z-Score Scaled Data (without exact zero):\n",
            "[[ 0.63245553 -0.4472136 ]\n",
            " [-0.63245553  0.4472136 ]\n",
            " [-1.26491106 -1.34164079]\n",
            " [ 1.26491106  1.34164079]]\n"
          ]
        }
      ],
      "source": [
        "import numpy as np\n",
        "from sklearn.preprocessing import StandardScaler\n",
        "\n",
        "# Example dataset\n",
        "data = np.array([[50, 2000],\n",
        "                 [30, 3000],\n",
        "                 [20, 1000],\n",
        "                 [60, 4000]])\n",
        "\n",
        "print(\"Original Data:\")\n",
        "print(data)\n",
        "\n",
        "# 1. Z-Score Scaling (Standardization)\n",
        "scaler = StandardScaler()\n",
        "\n",
        "# Apply Z-Score Scaling to the data\n",
        "zscore_scaled_data = scaler.fit_transform(data)\n",
        "\n",
        "# 2. Checking for zero values and modifying if necessary\n",
        "# We replace zero Z-scores with a very small value (e.g., 0.0001)\n",
        "zscore_scaled_data_no_zero = np.where(zscore_scaled_data == 0, 0.0001, zscore_scaled_data)\n",
        "\n",
        "print(\"\\nZ-Score Scaled Data (without exact zero):\")\n",
        "print(zscore_scaled_data_no_zero)\n"
      ]
    }
  ],
  "metadata": {
    "colab": {
      "provenance": [],
      "include_colab_link": true
    },
    "kernelspec": {
      "display_name": "Python 3",
      "name": "python3"
    },
    "language_info": {
      "codemirror_mode": {
        "name": "ipython",
        "version": 3
      },
      "file_extension": ".py",
      "mimetype": "text/x-python",
      "name": "python",
      "nbconvert_exporter": "python",
      "pygments_lexer": "ipython3",
      "version": "3.12.6"
    }
  },
  "nbformat": 4,
  "nbformat_minor": 0
}