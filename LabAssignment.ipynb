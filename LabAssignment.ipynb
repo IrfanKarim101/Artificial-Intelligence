{
 "cells": [
  {
   "cell_type": "code",
   "execution_count": 1,
   "metadata": {},
   "outputs": [
    {
     "name": "stdout",
     "output_type": "stream",
     "text": [
      "Shortest path from Islamabad to Karachi is: ['Islamabad', 'Rawalpindi', 'Quetta', 'Karachi']\n"
     ]
    }
   ],
   "source": [
    "# Imagine you're a tourist in Pakistan, and you want to travel from Islamabad to Karachi. You \n",
    "# want to find the shortest route in terms of the number of cities you need to travel through. The \n",
    "# cities are connected through highways, and your goal is to find the shortest path using BFS.\n",
    "# Cities and Their Connections (Graph):\n",
    "\n",
    "# You will use the following cities and their connections for this scenario:\n",
    "\n",
    "# • Islamabad is connected to Rawalpindi, Lahore, and Peshawar.\n",
    "# • Rawalpindi is connected to Islamabad, Peshawar, and Quetta.\n",
    "# • Peshawar is connected to Islamabad, Rawalpindi, and Quetta.\n",
    "# • Lahore is connected to Islamabad, Multan, and Quetta.\n",
    "# • Multan is connected to Lahore, Karachi, and Quetta.\n",
    "# • Quetta is connected to Rawalpindi, Peshawar, Multan, and Karachi.\n",
    "# • Karachi is connected to Multan and Quetta.\n",
    "\n",
    "from collections import deque\n",
    "\n",
    "graph={\n",
    "    'Islamabad': ['Rawalpindi', 'Lahore', 'Peshawar'],\n",
    "    'Rawalpindi':['Islamabad',  'Peshawar', 'Quetta'],\n",
    "    'Peshawar':['Islamabad', 'Rawalpindi', 'Quetta'],\n",
    "    'Lahore':['Islamabad', 'Multan', 'Quetta'],\n",
    "    'Multan':['Lahore', 'Karachi', 'Quetta'],\n",
    "    'Quetta':['Rawalpindi', 'Peshawar', 'Multan', 'Karachi'],\n",
    "    'Karachi':['Multan', 'Quetta']\n",
    "\n",
    "}\n",
    "\n",
    "def shortestPathBFS(graph, start, goal):\n",
    "    # Create a queue for BFS, enqueue the start node\n",
    "    queue = deque([[start]])\n",
    "    visited=set()\n",
    "    \n",
    "    while queue:\n",
    "        path = queue.popleft()\n",
    "        node = path[-1]\n",
    "\n",
    "        if node == goal:\n",
    "            return path\n",
    "\n",
    "        if node not in visited:\n",
    "            visited.add(node)\n",
    "\n",
    "            for neighbor in graph[node]:\n",
    "                new_path = list(path)\n",
    "                new_path.append(neighbor)\n",
    "                queue.append(new_path)\n",
    "            \n",
    "            \n",
    "    return None\n",
    "\n",
    "shortest_path=shortestPathBFS(graph, 'Islamabad', 'Karachi')\n",
    "print(\"Shortest path from Islamabad to Karachi is:\", shortest_path)\n",
    "\n",
    "#I'll  be happy to help you with any questions or concerns you may have. Feel free to ask!\n",
    "\n"
   ]
  }
 ],
 "metadata": {
  "kernelspec": {
   "display_name": "Python 3",
   "language": "python",
   "name": "python3"
  },
  "language_info": {
   "codemirror_mode": {
    "name": "ipython",
    "version": 3
   },
   "file_extension": ".py",
   "mimetype": "text/x-python",
   "name": "python",
   "nbconvert_exporter": "python",
   "pygments_lexer": "ipython3",
   "version": "3.12.6"
  }
 },
 "nbformat": 4,
 "nbformat_minor": 2
}
